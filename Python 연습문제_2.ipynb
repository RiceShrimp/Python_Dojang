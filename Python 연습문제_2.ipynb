{
 "cells": [
  {
   "cell_type": "markdown",
   "metadata": {},
   "source": [
    "#### 1. 세 자리 수를 곱해 만들 수 있는 가장 큰 대칭수는 얼마인가?\n",
    "- 앞에서부터 읽을 때나 뒤에서부터 읽을 때나 모양이 같은 수를 대칭수(palindrome)라고 부른다.  \n",
    "두 자리 수를 곱해 만들 수 있는 대칭수 중 가장 큰 수는 9009 (= 91 × 99) 이다.\n"
   ]
  },
  {
   "cell_type": "code",
   "execution_count": 5,
   "metadata": {},
   "outputs": [
    {
     "name": "stdout",
     "output_type": "stream",
     "text": [
      "906609 (= 913 x 993)\n"
     ]
    }
   ],
   "source": [
    "max_palindrome = 0\n",
    "numX = 0\n",
    "numY = 0\n",
    "for i in range(100, 999):\n",
    "    for j in range(100, 999):\n",
    "        palindrome = str(i * j)\n",
    "        if palindrome == palindrome[::-1]:\n",
    "            if max_palindrome < int(palindrome):\n",
    "                max_palindrome = int(palindrome)\n",
    "                numX = i\n",
    "                numY = j\n",
    "print('{0} (= {1} x {2})'.format(max_palindrome, numX, numY))"
   ]
  },
  {
   "cell_type": "markdown",
   "metadata": {},
   "source": [
    "#### 2. 어떠한 암호를 만들 문장과 n을 입력했을때 암호를 만들어 출력하는 프로그램을 작성하시오. \n",
    "- 시저 암호는, 고대 로마의 황제 줄리어스 시저가 만들어 낸 암호인데,  \n",
    "예를 들어 알파벳 A를 입력했을 때, 그 알파벳의 n개 뒤에 오는 알파벳이 출력되는 것이다.  \n",
    "예를 들어 바꾸려는 단어가 'CAT\"고, n을 5로 지정하였을 때 \"HFY\"가 되는 것이다.   \n",
    "- 입력 : 화면에서 문자열과 n값을 입력받는다. (예: ROSE 5)  \n",
    "- 출력 : 암호화된 문자열을 출력"
   ]
  },
  {
   "cell_type": "code",
   "execution_count": 5,
   "metadata": {},
   "outputs": [
    {
     "name": "stdout",
     "output_type": "stream",
     "text": [
      "CAT 5\n",
      "HFY\n"
     ]
    }
   ],
   "source": [
    "word, num = input().split()\n",
    "word_list = list(word)\n",
    "word_sum = list()\n",
    "for i in word_list:\n",
    "    word_sum.append(chr(ord(i) + int(num)))\n",
    "print(''.join(word_sum))"
   ]
  },
  {
   "cell_type": "markdown",
   "metadata": {},
   "source": [
    "#### 3. Linux 명령어인 grep 을 윈도우스에서 만들어 보시오.\n",
    "- 입력 형태  \n",
    "찾을 문자열: public  \n",
    "찾을 파일명: f:/Workspace/Egov/xxx.java  \n",
    "  \n",
    "- 출력 형태  \n",
    "13: public class ClassA {  \n",
    "16:     public int number;  "
   ]
  },
  {
   "cell_type": "code",
   "execution_count": 23,
   "metadata": {},
   "outputs": [
    {
     "name": "stdout",
     "output_type": "stream",
     "text": [
      "찾고자 하는 문자열과 파일명> from news_example.txt\n",
      "9: Moon made the remarks ahead of a weekly meeting of senior secretaries at the Blue House. He skipped the harsh rhetoric toward Japan this time, a change from almost daily messages condemning the neighboring country and its leaders throughout last week. Instead, he appealed to the public to counter Japan in cooperation with the government. \n",
      "21: Ko was reacting to the Japanese leader’s demand for a “proper” response from Korea in order for talks to be held on the escalating crisis. “I want to ask him if he thinks the Korean government had not responded properly until now,” Ko said. “We have always responded.”\n",
      "25: “We have repeatedly informed them of our position that a two-track approach must be used for Korea-Japan relations to separate the future from the past,” Ko said. “And our stance remains unchanged. We made diplomatic efforts in the past. We are still doing so now, and will do so in the future.” Ko pointed out that Abe has been flip-flopping on the justification for Tokyo’s export restrictions. “He said it was a security issue, and later changed to say it was a historical issue,” Ko said. “Then, he said it was a security issue, and today, he is saying it is a historical issue.” \n",
      "31: He said Japan is expected to exclude Korea at end of July or early August from the “white list” of countries qualified for strategic exports with minimal restrictions. \n"
     ]
    }
   ],
   "source": [
    "# Unix grep 명령어\n",
    "word, filename = input('찾고자 하는 문자열과 파일명> ').split()\n",
    "\n",
    "lineNo = 1\n",
    "with open(filename, 'r', encoding= 'UTF-8') as file:\n",
    "    for line in file:\n",
    "        if line.find(word) >= 0:\n",
    "            print('{0:d}: {1}'.format(lineNo, line) , end='')\n",
    "        lineNo += 1"
   ]
  },
  {
   "cell_type": "markdown",
   "metadata": {},
   "source": [
    "#### 4. 텍스트를 파일에서 읽어 단어의 개수를 세는 프로그램 Word Count를 작성하시오.\n",
    "- 입력은 텍스트 파일이고, 구분자는 마침표(‘.’), 쉽표(‘,’), 공백(‘ ‘)이다.  \n",
    "출력은 총 단어수와 가장 많이 나온 순서대로 단어 10개와 그 단어의 빈도이다."
   ]
  },
  {
   "cell_type": "code",
   "execution_count": 22,
   "metadata": {},
   "outputs": [
    {
     "name": "stdout",
     "output_type": "stream",
     "text": [
      "파일 이름> news_example.txt\n",
      "('the', 55)\n",
      "('to', 26)\n",
      "('in', 21)\n",
      "('and', 19)\n",
      "('said', 15)\n",
      "('a', 15)\n",
      "('of', 15)\n",
      "('Japan', 12)\n",
      "('Moon', 10)\n",
      "('that', 10)\n"
     ]
    }
   ],
   "source": [
    "import string\n",
    "import operator\n",
    "filename = input('파일 이름> ')\n",
    "wordsDict = dict()\n",
    "\n",
    "with open(filename, 'r', encoding= 'UTF-8') as file:\n",
    "    for line in file:\n",
    "        linewords = line.split()\n",
    "        for words in linewords:\n",
    "            word = words.strip(string.punctuation).strip()\n",
    "            if word in wordsDict :\n",
    "                wordsDict[word] += 1\n",
    "            else:\n",
    "                wordsDict[word] = 1\n",
    "\n",
    "wordsList = sorted(wordsDict.items(), key= operator.itemgetter(1), reverse= True)\n",
    "for i in range(10):\n",
    "    print(wordsList[i])"
   ]
  },
  {
   "cell_type": "markdown",
   "metadata": {},
   "source": [
    "#### 5. 다음의 지시대로 폴더와 파일을 프로그램에서 만드시오.\n",
    "- 랜덤으로 1, 2, 3 중 하나를 내용으로 갖는 txt 파일100개를 하나의 디렉토리(c:/Temp/Ex04) 안에 생성하는 코드를 작성하시오.  \n",
    "(파일 제목은 4자리 정수를 랜덤으로 할당. ex - 1382.txt , 0201.txt , 9012.txt , ......... )  \n",
    "- 제목이 0000~3333 인 txt 파일은 low 폴더로, 3334~6666인 txt 파일은 mid 폴더로, 6667~9999 인 파일은 high 폴더로 이동시키는 코드를 작성하시오.  \n",
    "- low, mid, high 폴더 안에 제목이 1, 2, 3 인 폴더를 각각 만들고, txt 파일 안의 내용에 따라 txt파일을 폴더안으로 이동시켜 분류하시오.  \n",
    "- 결론적으로 c:/Temp/Ex04 폴더 밑에는 low, mid, high 폴더 3개가 생기고, 이 각각의 폴더에는 1, 2, 3 폴더가 각각 생기고 이 폴더밑에 파일이 들어 있어야 함."
   ]
  },
  {
   "cell_type": "code",
   "execution_count": 26,
   "metadata": {},
   "outputs": [],
   "source": [
    "import os\n",
    "import shutil\n",
    "import random as rd\n",
    "PATH = 'C:/Users/Q/Desktop/Temp'\n",
    "os.mkdir(PATH)\n",
    "os.chdir(PATH)\n",
    "for dirname in ('low', 'mid', 'high'):\n",
    "    os.mkdir(PATH + '/' + dirname)\n",
    "    for num in ('1', '2', '3'):\n",
    "        os.mkdir(PATH + '/' + dirname + '/' + num)\n",
    "\n",
    "for i in range(100):\n",
    "    filenumber = rd.randint(0, 9999)\n",
    "    content = str(rd.randint(1, 3))\n",
    "    filename = '%04d.txt' % filenumber\n",
    "    file = open(filename, 'w')\n",
    "    file.write(content)\n",
    "    file.close()\n",
    "\n",
    "fileList = os.listdir(PATH)\n",
    "for filename in fileList:\n",
    "    # 디렉토리면 처리하지 않고 Loop을 반복\n",
    "    if os.path.isdir(filename):\n",
    "        continue\n",
    "\n",
    "    # 일반 파일이면\n",
    "    # 파일이름에서 숫자를 구하고, 파일을 읽어서 콘텐츠를 가져온다.\n",
    "    filenumber = int(filename[0:4])     # '1234.txt'로 부터 1234를 구함\n",
    "    file = open(filename, 'r')\n",
    "    content = file.read(1)\n",
    "    file.close()\n",
    "\n",
    "    # 원하는 위치에 파일을 이동\n",
    "    if filenumber <= 3333:\n",
    "        dirname = 'low'\n",
    "    elif filenumber <= 6666:\n",
    "        dirname = 'mid'\n",
    "    else:\n",
    "        dirname = 'high'\n",
    "    dst = dirname + '/' + content + '/' + filename\n",
    "    shutil.move(filename, dst)"
   ]
  },
  {
   "cell_type": "markdown",
   "metadata": {},
   "source": [
    "#### 6. Binary 파일을 16진수 값으로 출력하는 HexaDump 프로그램을 작성하시오.\n",
    "- 입력 형태  \n",
    "찾을 파일명: C:/Temp/james.p\n",
    "\n",
    "- 출력 형태  \n",
    "00000000:  00 01 44 E4 00 01 64 E4  41 42 43 11 00 61 F4 E4  ..D...d. ABC..a..  \n",
    "00000010:  41 42 63 13 00 62 F4 E5  00 01 46 E9 FF 01 65 E2  ABc..b.. ..F...e.  \n",
    "00000020:\n"
   ]
  },
  {
   "cell_type": "code",
   "execution_count": null,
   "metadata": {},
   "outputs": [],
   "source": [
    "import binascii as ba\n",
    "import os\n",
    "\n",
    "def showHexa(addr, buf, size):\n",
    "    if addr % 1024 == 0 and addr != 0:\n",
    "        print()\n",
    "    print('%08X: ' % addr, end = ' ')\n",
    "    if size != 16:\n",
    "        for i in range(size):\n",
    "            if i == 8:\n",
    "                print(end=' ')\n",
    "            print('%02X' % buf[i], end=' ')\n",
    "        for i in range(size, 16):\n",
    "            if i == 8:\n",
    "                print(end=' ')\n",
    "            print('  ', end=' ')\n",
    "    else:\n",
    "        for i in range(size):\n",
    "            if i == 8:\n",
    "                print(end=' ')\n",
    "            print('%02X' % buf[i], end=' ')\n",
    "    print('  ', end='')\n",
    "    for i in range(size):\n",
    "        if i == 8:\n",
    "            print(end=' ')\n",
    "        if buf[i] < 0x20 or buf[i] > 0x7e:\n",
    "            print('.', end='')\n",
    "        else:\n",
    "            print(chr(buf[i]), end='')\n",
    "    print()\n",
    "\n",
    "filename = input('읽을 파일> ')\n",
    "fileLength = os.path.getsize(filename)\n",
    "with open(filename, 'rb') as file:\n",
    "    count = 0\n",
    "    for i in range(0, fileLength, 16):\n",
    "        buf = file.read(16)\n",
    "        if fileLength - i < 16:\n",
    "            size = fileLength - i\n",
    "        else:\n",
    "            size = 16\n",
    "        showHexa(i, buf, size)"
   ]
  }
 ],
 "metadata": {
  "kernelspec": {
   "display_name": "Python 3",
   "language": "python",
   "name": "python3"
  },
  "language_info": {
   "codemirror_mode": {
    "name": "ipython",
    "version": 3
   },
   "file_extension": ".py",
   "mimetype": "text/x-python",
   "name": "python",
   "nbconvert_exporter": "python",
   "pygments_lexer": "ipython3",
   "version": "3.7.3"
  }
 },
 "nbformat": 4,
 "nbformat_minor": 2
}
