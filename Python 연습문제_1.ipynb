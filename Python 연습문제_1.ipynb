{
 "cells": [
  {
   "cell_type": "markdown",
   "metadata": {},
   "source": [
    "#### 1. 연도를 입력으로 받아 윤년인지 아닌지를 출력하는 프로그램을 작성하시오.\n",
    "- 윤년은 연도가 4의 배수이면서, 100의 배수가 아닐 때 또는 400의 배수일 때이다.  \n",
    "예를들어, 2012년은 4의 배수라서 윤년이지만, 1900년은 4의 배수이지만,  \n",
    "100의 배수이기 때문에 윤년이 아니다.  \n",
    "하지만, 2000년은 400의 배수이기 때문에 윤년이다.  "
   ]
  },
  {
   "cell_type": "code",
   "execution_count": 1,
   "metadata": {},
   "outputs": [
    {
     "name": "stdout",
     "output_type": "stream",
     "text": [
      "2000\n",
      "2000년은 윤년이다.\n"
     ]
    }
   ],
   "source": [
    "year = int(input())\n",
    "if year % 400 == 0:\n",
    "    print(year,'년은 윤년이다.', sep = '')\n",
    "elif year % 100 == 0:\n",
    "    print(year,'년은 윤년이 아니다.', sep = '')\n",
    "elif year % 4 == 0:\n",
    "    print(year,'년은 윤년이다.', sep = '')\n",
    "else:\n",
    "    print(year,'년은 윤년이 아니다.', sep = '')"
   ]
  },
  {
   "cell_type": "markdown",
   "metadata": {},
   "source": [
    "#### 2. 알람 시간을 고치는 프로그램을 작성하시오.\n",
    "- 상근이는 매일 아침 알람을 듣고 일어난다.  \n",
    "알람을 듣고 바로 일어나면 다행이겠지만,  \n",
    "항상 조금만 더 자려는 마음 때문에 매일 학교를 지각하고 있다.  \n",
    "상근이는 모든 방법을 동원해보았지만,  \n",
    "조금만 더 자려는 마음은 그 어떤 것도 없앨 수가 없었다.  \n",
    "이런 상근이를 불쌍하게 보던, 창영이는 자신이 사용하는 방법을 추천해 주었다.  \n",
    "바로 \"45분 일찍 알람 맞추기\"이다.  \n",
    "이 방법은 단순하다. 원래 맞춰져 있는 알람을 45분 앞서는 시간으로 바꾸는 것이다.  \n",
    "어차피 알람 소리를 들으면, 알람을 끄고 조금 더 잘 것이기 때문이다.  \n",
    "이 방법을 사용하면, 매일 아침 더 잤다는 기분을 느낄 수 있고,  \n",
    "학교도 지각하지 않게 된다.  \n",
    "현재 상근이가 맞춰논 알람 시각을 입력으로 받아(시와 분) 창영이의 방법을 사용한다면,  \n",
    "이를 언제로 고쳐야 하는지 구하는 프로그램을 작성하시오."
   ]
  },
  {
   "cell_type": "code",
   "execution_count": 25,
   "metadata": {},
   "outputs": [
    {
     "name": "stdout",
     "output_type": "stream",
     "text": [
      "7 30\n",
      "알람 설정은 다음과 같습니다.\n",
      "AM 6시 45분\n"
     ]
    }
   ],
   "source": [
    "hour, minute = map(int, input().split())\n",
    "def printTime(time, hour, minute):\n",
    "    print('알람 설정은 다음과 같습니다.')\n",
    "    print(time, str(hour) + '시', str(minute) + '분')\n",
    "\n",
    "if 0 <= hour <= 24 and 0<= minute <= 60:\n",
    "    if minute - 45 <= 0:\n",
    "        minute += 15\n",
    "        hour -= 1\n",
    "        if hour <= 12:\n",
    "            time = 'AM'\n",
    "            printTime(time, hour, minute)\n",
    "        else:\n",
    "            time = 'PM'\n",
    "            printTime(time, hour, minute)\n",
    "    else:\n",
    "        minute -= 15\n",
    "        if hour <= 12:\n",
    "            time = 'AM'\n",
    "            printTime(time, hour, minute)\n",
    "        else:\n",
    "            time = 'PM'\n",
    "            printTime(time, hour, minute)\n",
    "else:\n",
    "    print('시간이 잘못 입력되었습니다.')"
   ]
  },
  {
   "cell_type": "markdown",
   "metadata": {},
   "source": [
    "#### 3. 세 정수 a, b, c를 입력으로 받아 두 번째로 큰 정수를 출력하는 프로그램을 작성하시오."
   ]
  },
  {
   "cell_type": "code",
   "execution_count": 7,
   "metadata": {},
   "outputs": [
    {
     "name": "stdout",
     "output_type": "stream",
     "text": [
      "30 20 40\n",
      "30\n"
     ]
    }
   ],
   "source": [
    "a, b, c = map(int, input().split())\n",
    "result = [a, b, c]\n",
    "result.sort(reverse=True)\n",
    "print(result[1])\n"
   ]
  },
  {
   "cell_type": "markdown",
   "metadata": {},
   "source": [
    "#### 4. a + b + c = 1000 인 피타고라스 수를 구하시오. (답은 한가지 뿐이다.)\n",
    "- 세 자연수 a, b, c 가 피타고라스 정리 a^2 + b^2 = c^2 를 만족하면 피타고라스 수라고 부른다.  \n",
    "(여기서 a < b < c 이고 a + b > c)  \n",
    "예를 들면, 3^2 + 4^2 = 9 + 16 = 25 = 5^2 이므로 3, 4, 5는 피타고라스 수입니다.  \n",
    "a + b + c = 1000 인 피타고라스 수를 구하시오. (답은 한가지 뿐이다.)"
   ]
  },
  {
   "cell_type": "code",
   "execution_count": 8,
   "metadata": {},
   "outputs": [
    {
     "name": "stdout",
     "output_type": "stream",
     "text": [
      "200 375 425\n"
     ]
    }
   ],
   "source": [
    "end = 1\n",
    "for a in range(1, 333):\n",
    "    if end == 0:\n",
    "        break\n",
    "    for b in range(a, 500):\n",
    "        if end == 0:\n",
    "            break\n",
    "        for c in range(b, 1000):\n",
    "            if (a + b) < c:\n",
    "                continue\n",
    "            if a ** 2 + b ** 2 == c ** 2:\n",
    "                if a + b + c == 1000:\n",
    "                    print(a, b, c)\n",
    "                    end = 0\n",
    "                    break\n",
    "                       "
   ]
  },
  {
   "cell_type": "markdown",
   "metadata": {},
   "source": [
    "#### 5. 두 정수 A와 B를 입력받은 다음, A+B를 출력하는 프로그램을 작성하시오.\n",
    "- 입력: 첫째 줄에 테스트 케이스의 개수 T를 입력받는다.  \n",
    "각 테스트 케이스는 한 줄로 이루어져 있으며, 각 줄에 A와 B가 주어진다. (0 < A, B < 10)  \n",
    "출력: 각 테스트 케이스마다 \"Case #x: A + B = C\" 형식으로 출력한다.  \n",
    "x는 테스트 케이스 번호이고 1부터 시작하며, C는 A+B이다."
   ]
  },
  {
   "cell_type": "code",
   "execution_count": 75,
   "metadata": {},
   "outputs": [
    {
     "name": "stdout",
     "output_type": "stream",
     "text": [
      "10 2 3\n",
      "Case #1 2 + 3 = 5\n",
      "Case #2 2 + 3 = 5\n",
      "Case #3 2 + 3 = 5\n",
      "Case #4 2 + 3 = 5\n",
      "Case #5 2 + 3 = 5\n",
      "Case #6 2 + 3 = 5\n",
      "Case #7 2 + 3 = 5\n",
      "Case #8 2 + 3 = 5\n",
      "Case #9 2 + 3 = 5\n",
      "Case #10 2 + 3 = 5\n"
     ]
    }
   ],
   "source": [
    "T, a, b = map(int, input().split())\n",
    "for i in range(1, T + 1):\n",
    "    print('Case #' + str(i), a, '+', b, '=', a + b)"
   ]
  },
  {
   "cell_type": "markdown",
   "metadata": {},
   "source": [
    "#### 6. 5이상 9이하의 홀수를 입력받아 다이아몬드 형태의 별을 출력하는 프로그램을 작성하시오."
   ]
  },
  {
   "cell_type": "code",
   "execution_count": 22,
   "metadata": {},
   "outputs": [
    {
     "name": "stdout",
     "output_type": "stream",
     "text": [
      "5\n",
      "  *\n",
      " ***\n",
      "*****\n",
      " ***\n",
      "  *\n"
     ]
    }
   ],
   "source": [
    "height = int(input())\n",
    "for i in range(height // 2, -1, -1): \n",
    "    print(\" \" * i + \"*\" * (height-2 * i)) \n",
    "for i in range(1, height // 2 + 1): \n",
    "    print(\" \" * i + \"*\" * (height - 2 * i))\n"
   ]
  },
  {
   "cell_type": "markdown",
   "metadata": {},
   "source": [
    "#### 7. 디지털 시계에 하루동안(00:00~23:59) 3이 표시되는 시간을 초로 환산하면 \n",
    "#### 총 몇 초(second) 일까요?\n",
    "디지털 시계는 하루동안 다음과 같이 시:분(00:00~23:59)으로 표시됨."
   ]
  },
  {
   "cell_type": "code",
   "execution_count": 16,
   "metadata": {},
   "outputs": [
    {
     "name": "stdout",
     "output_type": "stream",
     "text": [
      "29700\n"
     ]
    }
   ],
   "source": [
    "ac_second = 0\n",
    "for hour in range(0, 24):\n",
    "    if hour % 10 == 3:\n",
    "        ac_second += 60 * 60\n",
    "        continue\n",
    "    for minute in range(0, 60):\n",
    "        if minute // 10 == 3 or minute % 10 == 3:\n",
    "            ac_second += 60\n",
    "        \n",
    "print(ac_second)"
   ]
  },
  {
   "cell_type": "markdown",
   "metadata": {},
   "source": [
    "#### 7. 1~1000에서 각 숫자의 개수를 구하시오.\n",
    "- 예로 10 ~ 15 까지의 각 숫자의 개수를 구해보자.\n",
    "10 = 1, 0  \n",
    "11 = 1, 1  \n",
    "12 = 1, 2  \n",
    "13 = 1, 3  \n",
    "14 = 1, 4  \n",
    "15 = 1, 5  \n",
    "그러므로 이 경우의 답은 0:1개, 1:7개, 2:1개, 3:1개, 4:1개, 5:1개"
   ]
  },
  {
   "cell_type": "code",
   "execution_count": 64,
   "metadata": {},
   "outputs": [
    {
     "name": "stdout",
     "output_type": "stream",
     "text": [
      "0 : 192 개\n",
      "1 : 301 개\n",
      "2 : 300 개\n",
      "3 : 300 개\n",
      "4 : 300 개\n",
      "5 : 300 개\n",
      "6 : 300 개\n",
      "7 : 300 개\n",
      "8 : 300 개\n",
      "9 : 300 개\n"
     ]
    }
   ],
   "source": [
    "list_1000 = list()\n",
    "for i in range(1, 1000 + 1):\n",
    "    temp = list(str(i))\n",
    "    for j in temp:\n",
    "        list_1000.append(j)\n",
    "for i in range(10):\n",
    "    str_n = str(i)\n",
    "    print(i, ':', list_1000.count(str_n),'개')"
   ]
  },
  {
   "cell_type": "markdown",
   "metadata": {},
   "source": [
    "#### 8. 입력으로 자연수 N을 받고, 출력으로 N 이하의 모든 완전수를 출력하는 코드를 작성하시오.\n",
    "- 자기 자신을 제외한 모든 양의 약수들의 합이 자기 자신이 되는 자연수를 완전수라고 한다.  \n",
    "예를 들면, 6과 28은 완전수이다.  \n",
    "6=1+2+3         # 1,2,3은 각각 6의 약수  \n",
    "28=1+2+4+7+14   # 1,2,4,7,14는 각각 28의 약수  \n",
    "입력으로 자연수 N을 받고, 출력으로 N 이하의 모든 완전수를 출력하는 코드를 작성하시오.\n"
   ]
  },
  {
   "cell_type": "code",
   "execution_count": 1,
   "metadata": {},
   "outputs": [
    {
     "name": "stdout",
     "output_type": "stream",
     "text": [
      "10000\n",
      "6\n",
      "28\n",
      "496\n",
      "8128\n"
     ]
    }
   ],
   "source": [
    "def yaksuCheck(n):\n",
    "    sum = 0\n",
    "    for i in range(1, n):\n",
    "        if n % i == 0:\n",
    "            sum += i\n",
    "    if sum == n:\n",
    "        return True\n",
    "    else:\n",
    "        return False\n",
    "num = int(input())\n",
    "for i in range(2, num + 1):\n",
    "    if yaksuCheck(i):\n",
    "        print(i)"
   ]
  },
  {
   "cell_type": "markdown",
   "metadata": {},
   "source": [
    "#### 9. 입력으로 자연수 N을 받아, 1부터 N까지 자연수에 대해 \n",
    "#### \"합의 제곱\"과 \"제곱의 합\"의 차이는 얼마인가?\n",
    "- 1부터 10까지 자연수를 각각 제곱해 더하면 다음과 같다 (제곱의 합).  \n",
    "1^2 + 2^2 + ... + 10^2 = 385  \n",
    "1부터 10을 먼저 더한 다음에 그 결과를 제곱하면 다음과 같습니다 (합의 제곱).  \n",
    "(1 + 2 + ... + 10)^2 = 55^2 = 3025  \n",
    "따라서 1부터 10까지 자연수에 대해 \"합의 제곱\"과 \"제곱의 합\"의 차이는 3025 - 385 = 2640 이 된다."
   ]
  },
  {
   "cell_type": "code",
   "execution_count": 72,
   "metadata": {},
   "outputs": [
    {
     "name": "stdout",
     "output_type": "stream",
     "text": [
      "10\n",
      "2640\n"
     ]
    }
   ],
   "source": [
    "end = int(input())\n",
    "sum_square = 0\n",
    "square_sum = 0\n",
    "for i in range(1, end + 1):\n",
    "    sum_square += i\n",
    "sum_square = sum_square ** 2\n",
    "\n",
    "for i in range(1, end + 1):\n",
    "    square_sum += i ** 2\n",
    "    \n",
    "print(sum_square - square_sum)"
   ]
  }
 ],
 "metadata": {
  "kernelspec": {
   "display_name": "Python 3",
   "language": "python",
   "name": "python3"
  },
  "language_info": {
   "codemirror_mode": {
    "name": "ipython",
    "version": 3
   },
   "file_extension": ".py",
   "mimetype": "text/x-python",
   "name": "python",
   "nbconvert_exporter": "python",
   "pygments_lexer": "ipython3",
   "version": "3.7.3"
  }
 },
 "nbformat": 4,
 "nbformat_minor": 2
}
