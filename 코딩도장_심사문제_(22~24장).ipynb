{
 "cells": [
  {
   "cell_type": "markdown",
   "metadata": {},
   "source": [
    "### 22.10 심사문제_ 2의 거듭제곱 리스트 생성하기"
   ]
  },
  {
   "cell_type": "code",
   "execution_count": 5,
   "metadata": {},
   "outputs": [
    {
     "name": "stdout",
     "output_type": "stream",
     "text": [
      "10 20\n",
      "[1024, 4096, 8192, 16384, 32768, 65536, 131072, 262144, 1048576]\n"
     ]
    }
   ],
   "source": [
    "start, end = map(int, input().split())\n",
    "_list = list(2 ** i for i in range(start, end + 1))\n",
    "del _list[1]\n",
    "del _list[-2]\n",
    "print(_list)"
   ]
  },
  {
   "cell_type": "markdown",
   "metadata": {},
   "source": [
    "### 23.7 심사문제_ 지뢰찾기"
   ]
  },
  {
   "cell_type": "code",
   "execution_count": 5,
   "metadata": {},
   "outputs": [
    {
     "name": "stdout",
     "output_type": "stream",
     "text": [
      "5 5\n",
      "..*..\n",
      "**.**\n",
      "*...*\n",
      "**.**\n",
      "..*..\n",
      "23*32\n",
      "**3**\n",
      "*545*\n",
      "**3**\n",
      "23*32\n"
     ]
    }
   ],
   "source": [
    "def filter_3By3(i, j, row, col, matrix):\n",
    "    for x in range(i - 1, i + 2): # 한 칸 위부터 한 칸 아래까지 반복\n",
    "        for y in range(j - 1, j + 2): # 한 칸 앞(왼쪽)부터 한 칸 뒤(오른쪽)까지 반복\n",
    "            if y < 0 or row <= y or x < 0 or col <= x  :\n",
    "                continue\n",
    "            elif matrix[x][y] == '*':\n",
    "                matrix[i][j] += 1\n",
    "            else:\n",
    "                continue\n",
    "\n",
    "col, row = map(int, input().split())\n",
    "\n",
    "matrix=[]\n",
    "for i in range(row):\n",
    "    matrix.append(list(input()))\n",
    "\n",
    "for i in range(col):\n",
    "    for j in range(row):\n",
    "        if matrix[i][j] == '*':\n",
    "            continue\n",
    "        else:\n",
    "            matrix[i][j] = 0\n",
    "            filter_3By3(i, j, row, col, matrix)\n",
    "\n",
    "for i in range(col):\n",
    "    for j in range(row):\n",
    "        print(matrix[i][j], sep = '', end = '')\n",
    "    print()"
   ]
  },
  {
   "cell_type": "markdown",
   "metadata": {},
   "source": [
    "### 24.5 심사문제_ 특정 단어 개수 세기"
   ]
  },
  {
   "cell_type": "code",
   "execution_count": 6,
   "metadata": {},
   "outputs": [
    {
     "name": "stdout",
     "output_type": "stream",
     "text": [
      "the grown-ups' response, this time, was to advise me to lay aside my drawings of boa constrictors, whether from the inside or the outside, and devote myself instead to geography, history, arithmetic, and grammar. That is why, at the, age of six, I gave up what might have been a magnificent career as a painter. I had been disheartened by the failure of my Drawing Number One and my Drawing Number Two. Grown-ups never understand anything by themselves, and it is tiresome for children to be always and forever explaining things to the.\n",
      "6\n"
     ]
    }
   ],
   "source": [
    "import string\n",
    "str_input = input()\n",
    "str_split = str_input.split()\n",
    "new_str = []\n",
    "for i in str_split:\n",
    "    new_str.append(i.strip(string.punctuation).strip())\n",
    "print(new_str.count('the'))"
   ]
  },
  {
   "cell_type": "markdown",
   "metadata": {},
   "source": [
    "### 24.6 심사문제_ 높은 가격순으로 출력하기"
   ]
  },
  {
   "cell_type": "code",
   "execution_count": 7,
   "metadata": {},
   "outputs": [
    {
     "name": "stdout",
     "output_type": "stream",
     "text": [
      "51900;83000;158000;367500;250000;59200;128500;1304000\n",
      "1,304,000\n",
      "  367,500\n",
      "  250,000\n",
      "  158,000\n",
      "  128,500\n",
      "   83,000\n",
      "   59,200\n",
      "   51,900\n"
     ]
    }
   ],
   "source": [
    "priceList = list(map(int, input().split(';')))\n",
    "priceListSort = sorted(priceList, reverse=True)\n",
    "for i in priceListSort:\n",
    "    print('{0:>9,}'.format(i))"
   ]
  }
 ],
 "metadata": {
  "kernelspec": {
   "display_name": "Python 3",
   "language": "python",
   "name": "python3"
  }
 },
 "nbformat": 4,
 "nbformat_minor": 2
}
