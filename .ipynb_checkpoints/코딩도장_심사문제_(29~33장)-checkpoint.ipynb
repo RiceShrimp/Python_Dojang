{
 "cells": [
  {
   "cell_type": "markdown",
   "metadata": {},
   "source": [
    "### 29.4 심사문제_ 사칙 연산 함수 만들기"
   ]
  },
  {
   "cell_type": "markdown",
   "metadata": {},
   "source": [
    "표준 입력으로 숫자 두 개가 입력됩니다. 다음 소스 코드를 완성하여 두 숫자의 덧셈, 뺄셈, 곱셈, 나눗셈의 결과가 출력되게 만드세요. 이때 나눗셈의 결과는 실수라야 합니다."
   ]
  },
  {
   "cell_type": "code",
   "execution_count": 2,
   "metadata": {},
   "outputs": [
    {
     "name": "stdout",
     "output_type": "stream",
     "text": [
      "10 20\n",
      "덧셈: 30, 뺄셈: -10, 곱셈: 200, 나눗셈: 0.5\n"
     ]
    }
   ],
   "source": [
    "x, y = map(int, input().split())\n",
    "\n",
    "def calc(a, b):\n",
    "    return a + b, a - b, a * b, a / b\n",
    "a, s, m, d = calc(x, y)\n",
    "print('덧셈: {0}, 뺄셈: {1}, 곱셈: {2}, 나눗셈: {3}'.format(a, s, m, d))"
   ]
  },
  {
   "cell_type": "markdown",
   "metadata": {},
   "source": [
    "### 30.7 심사문제_ 가장 낮은 점수, 높은 점수와 평균 점수 구하는 함수만들기"
   ]
  },
  {
   "cell_type": "markdown",
   "metadata": {},
   "source": [
    "표준 입력으로 국어, 영어, 수학, 과학 점수가 입력됩니다. 다음 소스 코드를 완성하여 가장 높은 점수, 가장 낮은 점수, 평균 점수가 출력되게 만드세요. 평균 점수는 실수로 출력되어야 합니다."
   ]
  },
  {
   "cell_type": "code",
   "execution_count": 4,
   "metadata": {},
   "outputs": [
    {
     "name": "stdout",
     "output_type": "stream",
     "text": [
      "76 82 89 84\n",
      "낮은 점수: 76.00, 높은 점수: 89.00, 평균 점수: 82.75\n",
      "낮은 점수: 82.00, 높은 점수: 84.00, 평균 점수: 83.00\n"
     ]
    }
   ],
   "source": [
    "korean, english, mathematics, science = map(int, input().split())\n",
    "\n",
    "def get_min_max_score(*args):\n",
    "    return min(args), max(args)\n",
    "def get_average(**kwargs):\n",
    "    return sum(kwargs.values())/len(kwargs)\n",
    "\n",
    "min_score, max_score = get_min_max_score(korean, english, mathematics, science)\n",
    "average_score = get_average(korean=korean, english=english,\n",
    "                            mathematics=mathematics, science=science)\n",
    "print('낮은 점수: {0:.2f}, 높은 점수: {1:.2f}, 평균 점수: {2:.2f}'\n",
    "      .format(min_score, max_score, average_score))\n",
    " \n",
    "min_score, max_score = get_min_max_score(english, science)\n",
    "average_score = get_average(english=english, science=science)\n",
    "print('낮은 점수: {0:.2f}, 높은 점수: {1:.2f}, 평균 점수: {2:.2f}'\n",
    "      .format(min_score, max_score, average_score))"
   ]
  },
  {
   "cell_type": "markdown",
   "metadata": {},
   "source": [
    "### 31.5 심사문제_ 재귀호출로 피보나치 수 구하기"
   ]
  },
  {
   "cell_type": "markdown",
   "metadata": {},
   "source": [
    "표준 입력으로 정수 한 개가 입력됩니다(입력 값의 범위는 10~30). 다음 소스 코드를 완성하여 입력된 정수에 해당하는 피보나치 수가 출력되게 만드세요.\n",
    "\n",
    "피보나치 수는 0과 1로 시작하며, 다음 번 피보나치 수는 바로 앞의 두 피보나치 수의 합입니다."
   ]
  },
  {
   "cell_type": "code",
   "execution_count": 6,
   "metadata": {},
   "outputs": [
    {
     "name": "stdout",
     "output_type": "stream",
     "text": [
      "10\n",
      "55\n"
     ]
    }
   ],
   "source": [
    "def fib(n):\n",
    "    if 1<= n <= 2:\n",
    "        return 1\n",
    "    else:\n",
    "        return fib(n - 2) + fib(n - 1)\n",
    "\n",
    "n = int(input())\n",
    "print(fib(n))"
   ]
  },
  {
   "cell_type": "markdown",
   "metadata": {},
   "source": [
    "### 32.5 심사문제_ 파일 이름을 한꺼번에 바꾸기"
   ]
  },
  {
   "cell_type": "markdown",
   "metadata": {},
   "source": [
    "표준 입력으로 숫자.확장자 형식으로 된 파일 이름 여러 개가 입력됩니다. 다음 소스 코드를 완성하여 파일 이름이 숫자 3개이면서 앞에 0이 들어가는 형식으로 출력되게 만드세요. 예를 들어 1.png는 001.png, 99.docx는 099.docx, 100.xlsx는 100.xlsx처럼 출력되어야 합니다. 그리고 람다 표현식을 사용해야 하며 출력 결과는 리스트 형태라야 합니다. 람다 표현식에서 파일명을 처리할 때는 문자열 포매팅과 문자열 메서드를 활용하세요."
   ]
  },
  {
   "cell_type": "code",
   "execution_count": 8,
   "metadata": {},
   "outputs": [
    {
     "name": "stdout",
     "output_type": "stream",
     "text": [
      "97.xlsx 98.docx 99.docx 100.xlsx 101.docx 102.docx\n",
      "['097.xlsx', '098.docx', '099.docx', '100.xlsx', '101.docx', '102.docx']\n"
     ]
    }
   ],
   "source": [
    "files = input().split()\n",
    "print(list(map(lambda x: '{0:03d}.{1}'.format(int(x.split('.')[0]), x.split('.')[1]), files)))"
   ]
  },
  {
   "cell_type": "markdown",
   "metadata": {},
   "source": [
    "### 33.6 심사문제_ 카운트다운 함수 만들기"
   ]
  },
  {
   "cell_type": "markdown",
   "metadata": {},
   "source": [
    "표준 입력으로 정수가 입력됩니다. 다음 소스 코드를 완성하여 함수 c를 호출할 때마다 숫자가 1씩 줄어들게 만드세요. 여기서는 함수를 클로저로 만들어야 합니다. 정답에 코드를 작성할 때는 def countdown(n):에 맞춰서 들여쓰기를 해주세요."
   ]
  },
  {
   "cell_type": "code",
   "execution_count": 9,
   "metadata": {},
   "outputs": [
    {
     "name": "stdout",
     "output_type": "stream",
     "text": [
      "5\n",
      "5 4 3 2 1 "
     ]
    }
   ],
   "source": [
    "def countdown(n):\n",
    "    i = n\n",
    "    def continueCount():\n",
    "        nonlocal i\n",
    "        r = i\n",
    "        i -= 1\n",
    "        return r\n",
    "    return continueCount\n",
    "\n",
    "n = int(input())\n",
    " \n",
    "c = countdown(n)\n",
    "for i in range(n):\n",
    "    print(c(), end=' ')"
   ]
  }
 ],
 "metadata": {
  "kernelspec": {
   "display_name": "Python 3",
   "language": "python",
   "name": "python3"
  },
  "language_info": {
   "codemirror_mode": {
    "name": "ipython",
    "version": 3
   },
   "file_extension": ".py",
   "mimetype": "text/x-python",
   "name": "python",
   "nbconvert_exporter": "python",
   "pygments_lexer": "ipython3",
   "version": "3.7.3"
  }
 },
 "nbformat": 4,
 "nbformat_minor": 2
}
