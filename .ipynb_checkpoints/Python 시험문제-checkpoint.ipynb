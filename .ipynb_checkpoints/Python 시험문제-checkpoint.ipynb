{
 "cells": [
  {
   "cell_type": "markdown",
   "metadata": {},
   "source": [
    "#### 3. 두 개의 정수를 입력받아 작은 수에서부터 큰 수까지(큰 수 포함) 홀수의 합을 구해서 \n",
    "#### 출력하는 프로그램을 for loop을 사용하여 작성하시오."
   ]
  },
  {
   "cell_type": "code",
   "execution_count": 7,
   "metadata": {},
   "outputs": [
    {
     "name": "stdout",
     "output_type": "stream",
     "text": [
      "10 15\n",
      "39\n"
     ]
    }
   ],
   "source": [
    "start, end = map(int, input().split())\n",
    "SUM = 0\n",
    "for i in range(start, end + 1):\n",
    "    if i % 2 != 0:\n",
    "        SUM += i\n",
    "print(SUM)"
   ]
  },
  {
   "cell_type": "markdown",
   "metadata": {},
   "source": [
    "#### 4. 연 복리 이자율을 입력받아(단위 %) 원금의 2배가 되는데 최소 몇 년이 걸리는지\n",
    "#### 알아보는 프로그램을 while loop을 사용하여 작성하시오."
   ]
  },
  {
   "cell_type": "code",
   "execution_count": 74,
   "metadata": {},
   "outputs": [
    {
     "name": "stdout",
     "output_type": "stream",
     "text": [
      "0.12\n",
      "원금 : 2000000 원, 복리 : 2210681.0 원, 지난 횟수 : 7 년\n"
     ]
    }
   ],
   "source": [
    "interest_rate = float(input())\n",
    "year = 0\n",
    "principal = 1000000\n",
    "sum_principal = principal\n",
    "while principal * 2 > sum_principal:\n",
    "    sum_principal = sum_principal + sum_principal * interest_rate\n",
    "    year += 1\n",
    "print('원금 :', principal * 2, '원, 복리 :', round(sum_principal, 0), '원, 지난 횟수 :', year, '년')\n",
    " "
   ]
  },
  {
   "cell_type": "markdown",
   "metadata": {},
   "source": [
    "#### 5. bts 리스트가 주어졌을 때 아래와 같은 답이 나오도록 print문을 작성하시오."
   ]
  },
  {
   "cell_type": "code",
   "execution_count": 13,
   "metadata": {
    "scrolled": true
   },
   "outputs": [
    {
     "name": "stdout",
     "output_type": "stream",
     "text": [
      "뷔\n",
      "['RM']\n",
      "['뷔']\n",
      "['슈가', '제이홉']\n",
      "['RM', '슈가', '지민', '정국']\n"
     ]
    }
   ],
   "source": [
    "bts = ['RM', '진', '슈가', '제이홉', '지민', '뷔', '정국']\n",
    "print(bts[5])\n",
    "print(bts[0:1])\n",
    "print(bts[5:6])\n",
    "print(bts[2:4])\n",
    "print(bts[0:7:2])"
   ]
  },
  {
   "cell_type": "markdown",
   "metadata": {},
   "source": [
    "#### 6. 다음과 같은 딕셔너리 vegetables가 주어졌을 때 아래 그림과 같이\n",
    "#### 가격이 높은 것부터 내림차순으로 출력하는 프로그램을 작성하되,\n",
    "#### 가격은 길이는 7로 만들고 1000단위 ,를 찍은 뒤 우측 정렬 하시오."
   ]
  },
  {
   "cell_type": "code",
   "execution_count": 17,
   "metadata": {},
   "outputs": [
    {
     "name": "stdout",
     "output_type": "stream",
     "text": [
      "수박: 15,000\n",
      "호박:  1,000\n",
      "가지:    800\n",
      "오이:    600\n",
      "깻잎:    500\n"
     ]
    }
   ],
   "source": [
    "import operator\n",
    "vegetables = {'가지' : 800, '오이' : 600, '수박' : 15000, '호박' : 1000, '깻잎' : 500}\n",
    "sorted_value = sorted(vegetables.items(), key=operator.itemgetter(1), reverse = True)\n",
    "for key, value in sorted_value:\n",
    "    print('{0}:{1:>7,}'.format(key, value))"
   ]
  },
  {
   "cell_type": "markdown",
   "metadata": {},
   "source": [
    "#### 7. 앞에서부터 읽을 때나 뒤에서부터 읽을 때나 모양이 같은 수를 대칭수라고 부른다.\n",
    "#### 세자리수 일때 가장 큰 대칭수는 얼마이고 x, y값은 얼마인가?"
   ]
  },
  {
   "cell_type": "code",
   "execution_count": 75,
   "metadata": {},
   "outputs": [
    {
     "name": "stdout",
     "output_type": "stream",
     "text": [
      "906609 (= 913 x 993)\n"
     ]
    }
   ],
   "source": [
    "max_palindrome = 0\n",
    "numX = 0\n",
    "numY = 0\n",
    "for i in range(100, 999):\n",
    "    for j in range(i, 1000):\n",
    "        palindrome = str(i * j)\n",
    "        if palindrome == palindrome[::-1]:\n",
    "            if max_palindrome < int(palindrome):\n",
    "                max_palindrome = int(palindrome)\n",
    "                numX = i\n",
    "                numY = j\n",
    "print('{0} (= {1} x {2})'.format(max_palindrome, numX, numY))"
   ]
  },
  {
   "cell_type": "markdown",
   "metadata": {},
   "source": [
    "#### 8. 다음의 규칙대로 동작하는 프로그램을 작성하시오."
   ]
  },
  {
   "cell_type": "code",
   "execution_count": 78,
   "metadata": {},
   "outputs": [
    {
     "name": "stdout",
     "output_type": "stream",
     "text": [
      "[['1', '3', '2', '2', '2'],\n",
      " ['3', '2', '2', '3', '1'],\n",
      " ['2', '3', '2', '2', '3'],\n",
      " ['2', '4', '4', '3', '1'],\n",
      " ['2', '1', '1', '1', '4']]\n",
      "[['1', '3', '*', '*', '*'],\n",
      " ['3', '2', '*', '3', '1'],\n",
      " ['*', '3', '*', '2', '3'],\n",
      " ['*', '4', '4', '3', '1'],\n",
      " ['*', '*', '*', '*', '4']]\n"
     ]
    }
   ],
   "source": [
    "### import random\n",
    "import pprint\n",
    "Square = [[0] * 5 for i in range(5)]\n",
    "for col in range(5):\n",
    "    for row in range(5):\n",
    "        Square[col][row] = str(random.randint(1,4))\n",
    "pprint.pprint(Square)\n",
    "\n",
    "for col in range(5):\n",
    "    for row in range(5):\n",
    "        if Square[col][row] == '*':\n",
    "            continue\n",
    "        countX = 0\n",
    "        tempX = 0\n",
    "        countY = 0\n",
    "        tempY = 0\n",
    "        tempX = Square[col][row]\n",
    "        tempY = Square[col][row]\n",
    "        for x in range(row, row + 3):\n",
    "            if x >= 5:\n",
    "                continue\n",
    "            if tempX == Square[col][x]:\n",
    "                countX += 1\n",
    "        for y in range(col, col + 3):\n",
    "            if y >= 5:\n",
    "                continue\n",
    "            if tempY == Square[y][row]:\n",
    "                countY += 1\n",
    "        if countX == 3:\n",
    "            Square[col][row] = '*'\n",
    "            Square[col][row + 1] = '*'\n",
    "            Square[col][row + 2] = '*'\n",
    "        if countY == 3:\n",
    "            Square[col][row] = '*'\n",
    "            Square[col + 1][row] = '*'\n",
    "            Square[col + 2][row] = '*'\n",
    "                    \n",
    "pprint.pprint(Square)\n",
    "                "
   ]
  },
  {
   "cell_type": "markdown",
   "metadata": {},
   "source": [
    "#### 9. 다음과 같은 리스트가 주어졌을 때에 각 원소의 제곱한 값을 갖는 리스트 b를\n",
    "#### 람다표현식을 사용하여 구하시오."
   ]
  },
  {
   "cell_type": "code",
   "execution_count": 20,
   "metadata": {},
   "outputs": [
    {
     "name": "stdout",
     "output_type": "stream",
     "text": [
      "[1, 9, 25, 49, 81]\n"
     ]
    }
   ],
   "source": [
    "a = [1, 3, 5, 7, 9]\n",
    "b = [i ** 2 for i in a]\n",
    "print(b)"
   ]
  }
 ],
 "metadata": {
  "kernelspec": {
   "display_name": "Python 3",
   "language": "python",
   "name": "python3"
  },
  "language_info": {
   "codemirror_mode": {
    "name": "ipython",
    "version": 3
   },
   "file_extension": ".py",
   "mimetype": "text/x-python",
   "name": "python",
   "nbconvert_exporter": "python",
   "pygments_lexer": "ipython3",
   "version": "3.7.3"
  }
 },
 "nbformat": 4,
 "nbformat_minor": 2
}
